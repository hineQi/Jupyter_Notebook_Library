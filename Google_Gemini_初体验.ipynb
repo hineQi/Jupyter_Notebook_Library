{
  "nbformat": 4,
  "nbformat_minor": 0,
  "metadata": {
    "colab": {
      "provenance": [],
      "toc_visible": true,
      "authorship_tag": "ABX9TyNIZcjsy9WVqRTrhMCVXkHQ",
      "include_colab_link": true
    },
    "kernelspec": {
      "name": "python3",
      "display_name": "Python 3"
    },
    "language_info": {
      "name": "python"
    }
  },
  "cells": [
    {
      "cell_type": "markdown",
      "metadata": {
        "id": "view-in-github",
        "colab_type": "text"
      },
      "source": [
        "<a href=\"https://colab.research.google.com/github/hineQi/Jupyter_Notebook_Library/blob/main/Google_Gemini_%E5%88%9D%E4%BD%93%E9%AA%8C.ipynb\" target=\"_parent\"><img src=\"https://colab.research.google.com/assets/colab-badge.svg\" alt=\"Open In Colab\"/></a>"
      ]
    },
    {
      "cell_type": "markdown",
      "source": [
        "# 安装需要的工具包"
      ],
      "metadata": {
        "id": "ezApu4sp3O1J"
      }
    },
    {
      "cell_type": "code",
      "execution_count": null,
      "metadata": {
        "colab": {
          "base_uri": "https://localhost:8080/"
        },
        "id": "150Cu1sq0i0I",
        "outputId": "8d8739ca-f3d4-4dcc-98be-071ab707b422"
      },
      "outputs": [
        {
          "output_type": "stream",
          "name": "stdout",
          "text": [
            "\u001b[2K     \u001b[90m━━━━━━━━━━━━━━━━━━━━━━━━━━━━━━━━━━━━━━━━\u001b[0m \u001b[32m809.1/809.1 kB\u001b[0m \u001b[31m6.6 MB/s\u001b[0m eta \u001b[36m0:00:00\u001b[0m\n",
            "\u001b[2K     \u001b[90m━━━━━━━━━━━━━━━━━━━━━━━━━━━━━━━━━━━━━━━━\u001b[0m \u001b[32m3.6/3.6 MB\u001b[0m \u001b[31m20.1 MB/s\u001b[0m eta \u001b[36m0:00:00\u001b[0m\n",
            "\u001b[2K     \u001b[90m━━━━━━━━━━━━━━━━━━━━━━━━━━━━━━━━━━━━━━━━\u001b[0m \u001b[32m1.5/1.5 MB\u001b[0m \u001b[31m30.8 MB/s\u001b[0m eta \u001b[36m0:00:00\u001b[0m\n",
            "\u001b[2K     \u001b[90m━━━━━━━━━━━━━━━━━━━━━━━━━━━━━━━━━━━━━━━━\u001b[0m \u001b[32m189.1/189.1 kB\u001b[0m \u001b[31m21.2 MB/s\u001b[0m eta \u001b[36m0:00:00\u001b[0m\n",
            "\u001b[2K     \u001b[90m━━━━━━━━━━━━━━━━━━━━━━━━━━━━━━━━━━━━━━━━\u001b[0m \u001b[32m46.0/46.0 kB\u001b[0m \u001b[31m4.8 MB/s\u001b[0m eta \u001b[36m0:00:00\u001b[0m\n",
            "\u001b[2K     \u001b[90m━━━━━━━━━━━━━━━━━━━━━━━━━━━━━━━━━━━━━━━━\u001b[0m \u001b[32m146.6/146.6 kB\u001b[0m \u001b[31m16.9 MB/s\u001b[0m eta \u001b[36m0:00:00\u001b[0m\n",
            "\u001b[2K     \u001b[90m━━━━━━━━━━━━━━━━━━━━━━━━━━━━━━━━━━━━━━━━\u001b[0m \u001b[32m49.4/49.4 kB\u001b[0m \u001b[31m5.3 MB/s\u001b[0m eta \u001b[36m0:00:00\u001b[0m\n",
            "\u001b[2K     \u001b[90m━━━━━━━━━━━━━━━━━━━━━━━━━━━━━━━━━━━━━━━━\u001b[0m \u001b[32m598.7/598.7 kB\u001b[0m \u001b[31m31.8 MB/s\u001b[0m eta \u001b[36m0:00:00\u001b[0m\n",
            "\u001b[?25h\u001b[31mERROR: pip's dependency resolver does not currently take into account all the packages that are installed. This behaviour is the source of the following dependency conflicts.\n",
            "imageio 2.31.6 requires pillow<10.1.0,>=8.3.2, but you have pillow 10.1.0 which is incompatible.\u001b[0m\u001b[31m\n",
            "\u001b[0m"
          ]
        }
      ],
      "source": [
        "%pip install -U --quiet langchain langchain-google-genai pillow"
      ]
    },
    {
      "cell_type": "markdown",
      "source": [
        "# 引入和初始化环境"
      ],
      "metadata": {
        "id": "NZ8JoUSr3dMm"
      }
    },
    {
      "cell_type": "code",
      "source": [
        "import pathlib\n",
        "import textwrap\n",
        "import os\n",
        "\n",
        "import google.generativeai as genai\n",
        "\n",
        "# Used to securely store your API key\n",
        "from google.colab import userdata\n",
        "\n",
        "from IPython.display import display\n",
        "from IPython.display import Markdown\n",
        "\n",
        "if \"GOOGLE_API_KEY\" not in os.environ:\n",
        "    os.environ[\"GOOGLE_API_KEY\"] = userdata.get(\"GOOGLE_API_KEY\")\n",
        "\n",
        "def to_markdown(text):\n",
        "  text = text.replace('•', '  *')\n",
        "  return Markdown(textwrap.indent(text, '> ', predicate=lambda _: True))"
      ],
      "metadata": {
        "id": "faWkKjci14Jd"
      },
      "execution_count": null,
      "outputs": []
    },
    {
      "cell_type": "markdown",
      "source": [
        "# Google Gemini 初体验"
      ],
      "metadata": {
        "id": "_dY8KqEq3lJj"
      }
    },
    {
      "cell_type": "code",
      "source": [
        "from langchain_google_genai import ChatGoogleGenerativeAI\n",
        "llm = ChatGoogleGenerativeAI(model=\"gemini-pro\")\n",
        "result = llm.invoke(\"人生的意义\")\n",
        "# print(result)\n",
        "to_markdown(result.content)"
      ],
      "metadata": {
        "colab": {
          "base_uri": "https://localhost:8080/",
          "height": 361
        },
        "id": "yeTKJqoc1Ob8",
        "outputId": "813e3c76-0bce-432a-a795-180c24451daf"
      },
      "execution_count": null,
      "outputs": [
        {
          "output_type": "stream",
          "name": "stdout",
          "text": [
            "content='1. **探索自我**：了解自己的兴趣、才能、价值观和目标，并不断追求个人成长和自我实现。\\n2. **建立联系**：建立有意义的人际关系，包括家人、朋友和同事，并通过这些联系体验爱、支持和归属感。\\n3. **做出贡献**：利用自己的技能和才能为他人和社会做出积极的贡献，并体验到帮助他人的乐趣和满足感。\\n4. **体验生活**：充分体验生活中的各个方面，包括旅行、冒险、学习新事物和尝试新事物，并从中获得乐趣和满足感。\\n5. **追求目标**：设定明确的目标，并通过努力和坚持不懈来实现这些目标，体验到成就感和自我价值感。\\n6. **留下面纱**：通过创造艺术作品、写作、音乐或其他形式的作品，将自己的思想和情感留给后代，并通过这些作品继续影响他人。\\n7. **寻求智慧**：不断学习和探索，寻求智慧和洞察力，并通过这些知识来理解世界和自己。\\n8. **拥抱生命**：接受生命中的不确定性和变化，并以积极和开放的态度面对生活中的挑战和机遇。\\n9. **体现同情心**：对他人充满同情和理解，并通过自己的行为和言语来支持和帮助他人。\\n10. **庆祝生命**：庆祝生命中的每一个时刻，无论大大小小，并感恩自己所拥有的一切。'\n"
          ]
        },
        {
          "output_type": "execute_result",
          "data": {
            "text/plain": [
              "<IPython.core.display.Markdown object>"
            ],
            "text/markdown": "> 1. **探索自我**：了解自己的兴趣、才能、价值观和目标，并不断追求个人成长和自我实现。\n> 2. **建立联系**：建立有意义的人际关系，包括家人、朋友和同事，并通过这些联系体验爱、支持和归属感。\n> 3. **做出贡献**：利用自己的技能和才能为他人和社会做出积极的贡献，并体验到帮助他人的乐趣和满足感。\n> 4. **体验生活**：充分体验生活中的各个方面，包括旅行、冒险、学习新事物和尝试新事物，并从中获得乐趣和满足感。\n> 5. **追求目标**：设定明确的目标，并通过努力和坚持不懈来实现这些目标，体验到成就感和自我价值感。\n> 6. **留下面纱**：通过创造艺术作品、写作、音乐或其他形式的作品，将自己的思想和情感留给后代，并通过这些作品继续影响他人。\n> 7. **寻求智慧**：不断学习和探索，寻求智慧和洞察力，并通过这些知识来理解世界和自己。\n> 8. **拥抱生命**：接受生命中的不确定性和变化，并以积极和开放的态度面对生活中的挑战和机遇。\n> 9. **体现同情心**：对他人充满同情和理解，并通过自己的行为和言语来支持和帮助他人。\n> 10. **庆祝生命**：庆祝生命中的每一个时刻，无论大大小小，并感恩自己所拥有的一切。"
          },
          "metadata": {},
          "execution_count": 8
        }
      ]
    }
  ]
}